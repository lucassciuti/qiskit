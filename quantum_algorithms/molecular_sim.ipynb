{
 "cells": [
  {
   "cell_type": "markdown",
   "metadata": {},
   "source": [
    "## Qiskit Nature é uma biblioteca com o objetivo de calcular energias moleculares em computadores quânticos"
   ]
  },
  {
   "cell_type": "code",
   "execution_count": 3,
   "metadata": {},
   "outputs": [],
   "source": [
    "# Molecule é uma classe que do qiskit Nature que implementa a geometria de uma molécula\n",
    "# UnitsType is used to inform if the units are in Angstrom or Bohr\n",
    "from qiskit_nature.drivers import Molecule, UnitsType\n",
    "\n",
    "# Drivers to resolve the electronic structure of a molecule\n",
    "from qiskit_nature.drivers.second_quantization import ElectronicStructureDriverType, ElectronicStructureMoleculeDriver\n",
    "from qiskit_nature.problems.second_quantization import ElectronicStructureProblem\n",
    "\n",
    "# Convert the molecular electronic structure into qubit circuits\n",
    "from qiskit_nature.converters.second_quantization import QubitConverter\n",
    "\n",
    "# The Jordan-Wigner fermion-to-qubit mapping\n",
    "from qiskit_nature.mappers.second_quantization import JordanWignerMapper\n"
   ]
  },
  {
   "cell_type": "code",
   "execution_count": 5,
   "metadata": {},
   "outputs": [],
   "source": [
    "# Pass the molecule geometry (Ex. H2)\n",
    "\n",
    "molecule = Molecule(geometry=[['H', [0., 0., 0.]],\n",
    "                              ['H', [0., 0., 0.735]]],\n",
    "                     charge=0, multiplicity=1)\n",
    "\n",
    "driver = ElectronicStructureMoleculeDriver(\n",
    "    molecule,\n",
    "    basis='sto3g',\n",
    "    driver_type=ElectronicStructureDriverType.PYSCF\n",
    ")\n",
    "\n",
    "es_problem = ElectronicStructureProblem(driver)\n",
    "qubit_converter = QubitConverter(JordanWignerMapper())"
   ]
  },
  {
   "cell_type": "code",
   "execution_count": 6,
   "metadata": {},
   "outputs": [],
   "source": [
    "# Importing the solver for the circuit built with the JordanWignerMapper\n",
    "from qiskit_nature.algorithms import NumPyEigensolverFactory\n",
    "\n",
    "numpy_solver = NumPyEigensolverFactory(use_default_filter_criterion=True)"
   ]
  },
  {
   "cell_type": "code",
   "execution_count": 7,
   "metadata": {},
   "outputs": [],
   "source": [
    "# To find the excited states, we need to calculate the ground state\n",
    "# with the GroundStateEigensolver\n",
    "\n",
    "from qiskit import Aer\n",
    "from qiskit.utils import QuantumInstance\n",
    "from qiskit_nature.algorithms import GroundStateEigensolver, QEOM, VQEUCCFactory\n",
    "\n",
    "# This first part sets the ground state solver\n",
    "# see more about this part in the ground state calculation tutorial\n",
    "quantum_instance = QuantumInstance(Aer.get_backend('aer_simulator_statevector'))\n",
    "solver = VQEUCCFactory(quantum_instance)\n",
    "gsc = GroundStateEigensolver(qubit_converter, solver)\n",
    "\n",
    "# The qEOM algorithm is simply instantiated with the chosen ground state solver\n",
    "qeom_excited_states_calculation = QEOM(gsc, 'sd')"
   ]
  },
  {
   "cell_type": "code",
   "execution_count": 8,
   "metadata": {},
   "outputs": [
    {
     "ename": "MissingOptionalLibraryError",
     "evalue": "\"The 'PySCF' library is required to use 'PySCFDriver'. You can install it with 'pip install 'qiskit-nature[pyscf]''.  See https://pyscf.org/install.html.\"",
     "output_type": "error",
     "traceback": [
      "\u001b[1;31m---------------------------------------------------------------------------\u001b[0m",
      "\u001b[1;31mMissingOptionalLibraryError\u001b[0m               Traceback (most recent call last)",
      "\u001b[1;32m~\\AppData\\Local\\Temp/ipykernel_14260/3285602706.py\u001b[0m in \u001b[0;36m<module>\u001b[1;34m\u001b[0m\n\u001b[0;32m      2\u001b[0m \u001b[1;33m\u001b[0m\u001b[0m\n\u001b[0;32m      3\u001b[0m \u001b[0mnumpy_excited_states_calculation\u001b[0m \u001b[1;33m=\u001b[0m \u001b[0mExcitedStatesEigensolver\u001b[0m\u001b[1;33m(\u001b[0m\u001b[0mqubit_converter\u001b[0m\u001b[1;33m,\u001b[0m \u001b[0mnumpy_solver\u001b[0m\u001b[1;33m)\u001b[0m\u001b[1;33m\u001b[0m\u001b[1;33m\u001b[0m\u001b[0m\n\u001b[1;32m----> 4\u001b[1;33m \u001b[0mnumpy_results\u001b[0m \u001b[1;33m=\u001b[0m \u001b[0mnumpy_excited_states_calculation\u001b[0m\u001b[1;33m.\u001b[0m\u001b[0msolve\u001b[0m\u001b[1;33m(\u001b[0m\u001b[0mes_problem\u001b[0m\u001b[1;33m)\u001b[0m\u001b[1;33m\u001b[0m\u001b[1;33m\u001b[0m\u001b[0m\n\u001b[0m\u001b[0;32m      5\u001b[0m \u001b[1;33m\u001b[0m\u001b[0m\n\u001b[0;32m      6\u001b[0m \u001b[0mqeom_results\u001b[0m \u001b[1;33m=\u001b[0m \u001b[0mqeom_excited_states_calculation\u001b[0m\u001b[1;33m.\u001b[0m\u001b[0msolve\u001b[0m\u001b[1;33m(\u001b[0m\u001b[0mes_problem\u001b[0m\u001b[1;33m)\u001b[0m\u001b[1;33m\u001b[0m\u001b[1;33m\u001b[0m\u001b[0m\n",
      "\u001b[1;32mc:\\Users\\lfsci\\github\\qiskit\\venv\\lib\\site-packages\\qiskit_nature\\algorithms\\excited_states_solvers\\excited_states_eigensolver.py\u001b[0m in \u001b[0;36msolve\u001b[1;34m(self, problem, aux_operators)\u001b[0m\n\u001b[0;32m     78\u001b[0m         \u001b[1;31m# note that ``aux_operators`` contains not only the transformed ``aux_operators`` passed\u001b[0m\u001b[1;33m\u001b[0m\u001b[1;33m\u001b[0m\u001b[1;33m\u001b[0m\u001b[0m\n\u001b[0;32m     79\u001b[0m         \u001b[1;31m# by the user but also additional ones from the transformation\u001b[0m\u001b[1;33m\u001b[0m\u001b[1;33m\u001b[0m\u001b[1;33m\u001b[0m\u001b[0m\n\u001b[1;32m---> 80\u001b[1;33m         \u001b[0msecond_q_ops\u001b[0m \u001b[1;33m=\u001b[0m \u001b[0mproblem\u001b[0m\u001b[1;33m.\u001b[0m\u001b[0msecond_q_ops\u001b[0m\u001b[1;33m(\u001b[0m\u001b[1;33m)\u001b[0m\u001b[1;33m\u001b[0m\u001b[1;33m\u001b[0m\u001b[0m\n\u001b[0m\u001b[0;32m     81\u001b[0m \u001b[1;33m\u001b[0m\u001b[0m\n\u001b[0;32m     82\u001b[0m         main_operator = self._qubit_converter.convert(\n",
      "\u001b[1;32mc:\\Users\\lfsci\\github\\qiskit\\venv\\lib\\site-packages\\qiskit_nature\\problems\\second_quantization\\electronic\\electronic_structure_problem.py\u001b[0m in \u001b[0;36msecond_q_ops\u001b[1;34m(self)\u001b[0m\n\u001b[0;32m     67\u001b[0m             \u001b[0moperator\u001b[0m\u001b[1;33m,\u001b[0m \u001b[1;32mand\u001b[0m \u001b[1;33m(\u001b[0m\u001b[1;32mif\u001b[0m \u001b[0mavailable\u001b[0m\u001b[1;33m)\u001b[0m \u001b[0mx\u001b[0m\u001b[1;33m,\u001b[0m \u001b[0my\u001b[0m\u001b[1;33m,\u001b[0m \u001b[0mz\u001b[0m \u001b[0mdipole\u001b[0m \u001b[0moperators\u001b[0m\u001b[1;33m.\u001b[0m\u001b[1;33m\u001b[0m\u001b[1;33m\u001b[0m\u001b[0m\n\u001b[0;32m     68\u001b[0m         \"\"\"\n\u001b[1;32m---> 69\u001b[1;33m         \u001b[0mdriver_result\u001b[0m \u001b[1;33m=\u001b[0m \u001b[0mself\u001b[0m\u001b[1;33m.\u001b[0m\u001b[0mdriver\u001b[0m\u001b[1;33m.\u001b[0m\u001b[0mrun\u001b[0m\u001b[1;33m(\u001b[0m\u001b[1;33m)\u001b[0m\u001b[1;33m\u001b[0m\u001b[1;33m\u001b[0m\u001b[0m\n\u001b[0m\u001b[0;32m     70\u001b[0m \u001b[1;33m\u001b[0m\u001b[0m\n\u001b[0;32m     71\u001b[0m         \u001b[1;32mif\u001b[0m \u001b[0mself\u001b[0m\u001b[1;33m.\u001b[0m\u001b[0m_legacy_driver\u001b[0m\u001b[1;33m:\u001b[0m\u001b[1;33m\u001b[0m\u001b[1;33m\u001b[0m\u001b[0m\n",
      "\u001b[1;32mc:\\Users\\lfsci\\github\\qiskit\\venv\\lib\\site-packages\\qiskit_nature\\drivers\\second_quantization\\electronic_structure_molecule_driver.py\u001b[0m in \u001b[0;36mrun\u001b[1;34m(self)\u001b[0m\n\u001b[0;32m    170\u001b[0m \u001b[1;33m\u001b[0m\u001b[0m\n\u001b[0;32m    171\u001b[0m     \u001b[1;32mdef\u001b[0m \u001b[0mrun\u001b[0m\u001b[1;33m(\u001b[0m\u001b[0mself\u001b[0m\u001b[1;33m)\u001b[0m \u001b[1;33m->\u001b[0m \u001b[0mGroupedElectronicProperty\u001b[0m\u001b[1;33m:\u001b[0m\u001b[1;33m\u001b[0m\u001b[1;33m\u001b[0m\u001b[0m\n\u001b[1;32m--> 172\u001b[1;33m         driver_class = ElectronicStructureDriverType.driver_class_from_type(\n\u001b[0m\u001b[0;32m    173\u001b[0m             \u001b[0mself\u001b[0m\u001b[1;33m.\u001b[0m\u001b[0mdriver_type\u001b[0m\u001b[1;33m,\u001b[0m \u001b[0mself\u001b[0m\u001b[1;33m.\u001b[0m\u001b[0mmethod\u001b[0m\u001b[1;33m\u001b[0m\u001b[1;33m\u001b[0m\u001b[0m\n\u001b[0;32m    174\u001b[0m         )\n",
      "\u001b[1;32mc:\\Users\\lfsci\\github\\qiskit\\venv\\lib\\site-packages\\qiskit_nature\\drivers\\second_quantization\\electronic_structure_molecule_driver.py\u001b[0m in \u001b[0;36mdriver_class_from_type\u001b[1;34m(driver_type, method)\u001b[0m\n\u001b[0;32m     82\u001b[0m                     \u001b[0mlibname\u001b[0m\u001b[1;33m=\u001b[0m\u001b[0mdriver_type\u001b[0m\u001b[1;33m,\u001b[0m \u001b[0mname\u001b[0m\u001b[1;33m=\u001b[0m\u001b[1;34m\"ElectronicStructureDriverType\"\u001b[0m\u001b[1;33m\u001b[0m\u001b[1;33m\u001b[0m\u001b[0m\n\u001b[0;32m     83\u001b[0m                 )\n\u001b[1;32m---> 84\u001b[1;33m             \u001b[0mdriver_class\u001b[0m\u001b[1;33m.\u001b[0m\u001b[0mcheck_installed\u001b[0m\u001b[1;33m(\u001b[0m\u001b[1;33m)\u001b[0m  \u001b[1;31m# type: ignore\u001b[0m\u001b[1;33m\u001b[0m\u001b[1;33m\u001b[0m\u001b[0m\n\u001b[0m\u001b[0;32m     85\u001b[0m             \u001b[0mdriver_class\u001b[0m\u001b[1;33m.\u001b[0m\u001b[0mcheck_method_supported\u001b[0m\u001b[1;33m(\u001b[0m\u001b[0mmethod\u001b[0m\u001b[1;33m)\u001b[0m  \u001b[1;31m# type: ignore\u001b[0m\u001b[1;33m\u001b[0m\u001b[1;33m\u001b[0m\u001b[0m\n\u001b[0;32m     86\u001b[0m \u001b[1;33m\u001b[0m\u001b[0m\n",
      "\u001b[1;32mc:\\Users\\lfsci\\github\\qiskit\\venv\\lib\\site-packages\\qiskit_nature\\drivers\\second_quantization\\pyscfd\\pyscfdriver.py\u001b[0m in \u001b[0;36mcheck_installed\u001b[1;34m()\u001b[0m\n\u001b[0;32m    381\u001b[0m             ) from ex\n\u001b[0;32m    382\u001b[0m \u001b[1;33m\u001b[0m\u001b[0m\n\u001b[1;32m--> 383\u001b[1;33m         raise MissingOptionalLibraryError(\n\u001b[0m\u001b[0;32m    384\u001b[0m             \u001b[0mlibname\u001b[0m\u001b[1;33m=\u001b[0m\u001b[1;34m\"PySCF\"\u001b[0m\u001b[1;33m,\u001b[0m\u001b[1;33m\u001b[0m\u001b[1;33m\u001b[0m\u001b[0m\n\u001b[0;32m    385\u001b[0m             \u001b[0mname\u001b[0m\u001b[1;33m=\u001b[0m\u001b[1;34m\"PySCFDriver\"\u001b[0m\u001b[1;33m,\u001b[0m\u001b[1;33m\u001b[0m\u001b[1;33m\u001b[0m\u001b[0m\n",
      "\u001b[1;31mMissingOptionalLibraryError\u001b[0m: \"The 'PySCF' library is required to use 'PySCFDriver'. You can install it with 'pip install 'qiskit-nature[pyscf]''.  See https://pyscf.org/install.html.\""
     ]
    }
   ],
   "source": [
    "from qiskit_nature.algorithms import ExcitedStatesEigensolver\n",
    "\n",
    "numpy_excited_states_calculation = ExcitedStatesEigensolver(qubit_converter, numpy_solver)\n",
    "numpy_results = numpy_excited_states_calculation.solve(es_problem)\n",
    "\n",
    "qeom_results = qeom_excited_states_calculation.solve(es_problem)\n",
    "\n",
    "print(numpy_results)\n",
    "print('\\n\\n')\n",
    "print(qeom_results)"
   ]
  },
  {
   "cell_type": "code",
   "execution_count": null,
   "metadata": {},
   "outputs": [],
   "source": []
  }
 ],
 "metadata": {
  "interpreter": {
   "hash": "242467616d5933290ffba538f1ec46ab244d06d7976dc6720627bd65d6e21a3b"
  },
  "kernelspec": {
   "display_name": "Python 3.9.6 64-bit ('venv': venv)",
   "name": "python3"
  },
  "language_info": {
   "codemirror_mode": {
    "name": "ipython",
    "version": 3
   },
   "file_extension": ".py",
   "mimetype": "text/x-python",
   "name": "python",
   "nbconvert_exporter": "python",
   "pygments_lexer": "ipython3",
   "version": "3.9.6"
  },
  "orig_nbformat": 4
 },
 "nbformat": 4,
 "nbformat_minor": 2
}
